{
 "cells": [
  {
   "cell_type": "code",
   "execution_count": 1,
   "id": "7c696f75-d815-4d6f-9d64-8b9280f5ad15",
   "metadata": {
    "tags": []
   },
   "outputs": [],
   "source": [
    "import torch\n",
    "import os\n",
    "import random"
   ]
  },
  {
   "cell_type": "code",
   "execution_count": 3,
   "id": "1175e94d-bb19-4614-abb3-3b7e47669f33",
   "metadata": {
    "tags": []
   },
   "outputs": [],
   "source": [
    "# 导入数据集\n",
    "def import_data(filename):\n",
    "    tmp_X = []\n",
    "    tmp_y = []\n",
    "    file = open(filename, 'r')\n",
    "    file_lines = file.readlines()\n",
    "    for line in file_lines:\n",
    "        tmp_line = line.split(' ')\n",
    "        tmp_X.append(float(tmp_line[0]))\n",
    "        tmp_y.append(float(tmp_line[1]))\n",
    "    X = torch.tensor(tmp_X)\n",
    "    y = torch.tensor(tmp_y)\n",
    "    # 行向量转化为列向量\n",
    "    return X.reshape(-1, 1), y.reshape(-1, 1)\n",
    "\n",
    "X, y = import_data('data/data.txt')\n",
    "# print('X', X, '\\n', 'y', y[0])"
   ]
  },
  {
   "cell_type": "code",
   "execution_count": null,
   "id": "6fe1482c-371a-4ad0-ab54-031f20615e74",
   "metadata": {
    "tags": []
   },
   "outputs": [
    {
     "name": "stdout",
     "output_type": "stream",
     "text": [
      "torch.Size([10, 1]) torch.Size([10, 1])\n"
     ]
    }
   ],
   "source": [
    "# 将x和y，按照批次batch_size随机拆分，打散顺序\n",
    "def data_iter(batch_size, features, labels):\n",
    "    num_examples = len(features)\n",
    "    indices = list(range(num_examples))\n",
    "    random.shuffle(indices)\n",
    "    for i in range(0, num_examples, batch_size):\n",
    "        batch_indices = torch.tensor(indices[i : min(i + batch_size, num_examples)])\n",
    "        # print(batch_indices)\n",
    "        yield features[batch_indices], labels[batch_indices]\n",
    "     \n",
    "batch_size = 10\n",
    "for X, y in data_iter(batch_size, X, y):\n",
    "  print(X.shape, y.shape)"
   ]
  },
  {
   "cell_type": "code",
   "execution_count": null,
   "id": "3446cb59-c994-4c16-bd3f-41fc8e6d766c",
   "metadata": {
    "tags": []
   },
   "outputs": [],
   "source": [
    "# 初始化模型参数\n",
    "w = torch.normal(0, 0.01, size = (1, 1), requires_grad = True)\n",
    "b = torch.zeros(1, requires_grad = True)"
   ]
  },
  {
   "cell_type": "code",
   "execution_count": null,
   "id": "f3bbf2f8-5e6e-4500-89e5-f7fe4f444478",
   "metadata": {},
   "outputs": [],
   "source": [
    "# 定义模型,\n",
    "def linreg(X, w, b):\n",
    "    \"\"\"线性回归模型\"\"\"\n",
    "    return torch.matmul(X, w) + b"
   ]
  },
  {
   "cell_type": "code",
   "execution_count": null,
   "id": "ba5342f8-cf33-4731-83b1-f29eed584bc3",
   "metadata": {
    "tags": []
   },
   "outputs": [],
   "source": [
    "# 均方损失定义损失函数\n",
    "def squared_loss(y_hat, y):\n",
    "    return (y_hat - y.reshape(y_hat.shape)) ** 2 / 2"
   ]
  },
  {
   "cell_type": "code",
   "execution_count": null,
   "id": "93a0ee12-548e-4728-a8d0-01e321eafb78",
   "metadata": {
    "tags": []
   },
   "outputs": [],
   "source": [
    "# 定义优化算法\n",
    "def sgd(params, lr, batch_size):\n",
    "    with torch.no_grad():\n",
    "        for param in params:\n",
    "            param -=lr * param.grad / batch_size\n",
    "            param.grad.zero_()"
   ]
  },
  {
   "cell_type": "code",
   "execution_count": null,
   "id": "d4e3b030-bae8-4025-acd1-ef529e7997f7",
   "metadata": {
    "tags": []
   },
   "outputs": [
    {
     "ename": "NameError",
     "evalue": "name 'linreg' is not defined",
     "output_type": "error",
     "traceback": [
      "\u001b[0;31m---------------------------------------------------------------------------\u001b[0m",
      "\u001b[0;31mNameError\u001b[0m                                 Traceback (most recent call last)",
      "Cell \u001b[0;32mIn[1], line 4\u001b[0m\n\u001b[1;32m      2\u001b[0m lr \u001b[38;5;241m=\u001b[39m \u001b[38;5;241m0.03\u001b[39m\n\u001b[1;32m      3\u001b[0m num_epochs \u001b[38;5;241m=\u001b[39m \u001b[38;5;241m10000\u001b[39m\n\u001b[0;32m----> 4\u001b[0m net \u001b[38;5;241m=\u001b[39m linreg\n\u001b[1;32m      5\u001b[0m loss \u001b[38;5;241m=\u001b[39m squared_loss\n\u001b[1;32m      6\u001b[0m \u001b[38;5;28;01mfor\u001b[39;00m epoch \u001b[38;5;129;01min\u001b[39;00m \u001b[38;5;28mrange\u001b[39m(num_epochs):\n",
      "\u001b[0;31mNameError\u001b[0m: name 'linreg' is not defined"
     ]
    }
   ],
   "source": [
    "# 训练\n",
    "lr = 0.03\n",
    "num_epochs = 10000\n",
    "net = linreg\n",
    "loss = squared_loss\n",
    "for epoch in range(num_epochs):\n",
    "    for X, y in data_iter(batch_size, X, y):\n",
    "        l = loss(net(X, w, b), y)\n",
    "        l.sum().backward()\n",
    "        sgd([w, b], lr, batch_size)\n",
    "    print('epoch', epoch + 1, 'w', w.mean(), 'b', b.mean())"
   ]
  },
  {
   "cell_type": "code",
   "execution_count": null,
   "id": "c7ebe698-4410-4469-bd3d-9509a9d16084",
   "metadata": {},
   "outputs": [],
   "source": []
  }
 ],
 "metadata": {
  "kernelspec": {
   "display_name": "Python 3 (ipykernel)",
   "language": "python",
   "name": "python3"
  },
  "language_info": {
   "codemirror_mode": {
    "name": "ipython",
    "version": 3
   },
   "file_extension": ".py",
   "mimetype": "text/x-python",
   "name": "python",
   "nbconvert_exporter": "python",
   "pygments_lexer": "ipython3",
   "version": "3.11.7"
  },
  "toc-autonumbering": false,
  "toc-showcode": true,
  "toc-showmarkdowntxt": true
 },
 "nbformat": 4,
 "nbformat_minor": 5
}
