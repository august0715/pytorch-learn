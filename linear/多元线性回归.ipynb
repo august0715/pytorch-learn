{
 "cells": [
  {
   "cell_type": "code",
   "execution_count": 2,
   "id": "478eb3cf-bec8-45c3-aada-eeaf972eeeb0",
   "metadata": {
    "tags": []
   },
   "outputs": [],
   "source": [
    "%matplotlib inline\n",
    "import torch\n",
    "import random\n",
    "# from d2l import torch as d2l"
   ]
  },
  {
   "cell_type": "code",
   "execution_count": 3,
   "id": "70f75b56-6c90-4b6f-98f8-1c475f3ad6f0",
   "metadata": {
    "tags": []
   },
   "outputs": [
    {
     "name": "stdout",
     "output_type": "stream",
     "text": [
      "features: tensor([0.6762, 0.0300]) \n",
      "labels: tensor([5.4613])\n"
     ]
    }
   ],
   "source": [
    "# 生成数据集\n",
    "def synthetic_data(w, b, num_examples): # 模型为 y=Xw+b+q(噪声) #@save\n",
    "    X = torch.normal(0, 1, (num_examples, len(w))) # 数据集为1000行2列\n",
    "    y = torch.matmul(X, w) + b\n",
    "    y += torch.normal(0, 0.01, y.shape)\n",
    "    return X, y.reshape(-1, 1)\n",
    "\n",
    "given_w = torch.tensor([2, -3.4]) # 给定线性参数(2，-3.4)\n",
    "given_b = 4.2 # 给定参数4.2\n",
    "features, labels = synthetic_data(given_w, given_b, 1000)\n",
    "print('features:',features[0],'\\nlabels:',labels[0])\n",
    "#print(type(features[0]))"
   ]
  },
  {
   "cell_type": "code",
   "execution_count": 3,
   "id": "c34568ea-52a7-4993-a18d-70c387b5982d",
   "metadata": {
    "tags": []
   },
   "outputs": [
    {
     "name": "stdout",
     "output_type": "stream",
     "text": [
      "tensor([[-0.4001,  1.9823],\n",
      "        [ 0.4067, -0.9114],\n",
      "        [-0.9392, -0.1528],\n",
      "        [-1.3112,  0.4308],\n",
      "        [ 1.1068,  1.3974],\n",
      "        [ 1.8488,  0.5349],\n",
      "        [-0.0821,  1.2399],\n",
      "        [ 0.8343, -1.9747],\n",
      "        [-1.0795,  1.7305],\n",
      "        [ 2.4195,  1.3710]]) \n",
      " tensor([[-3.3503],\n",
      "        [ 8.1107],\n",
      "        [ 2.8516],\n",
      "        [ 0.1178],\n",
      "        [ 1.6612],\n",
      "        [ 6.0815],\n",
      "        [-0.1747],\n",
      "        [12.6018],\n",
      "        [-3.8434],\n",
      "        [ 4.3805]])\n"
     ]
    }
   ],
   "source": [
    "# 读取数据集\n",
    "def data_read(batch_size, features, labels): # 生成小批量数据表\n",
    "    num_examples = len(features)\n",
    "    indices = list(range(num_examples)) # 创建列表\n",
    "    random.shuffle(indices) # 随机读取列表中的样本\n",
    "    for i in range(0, num_examples, batch_size):\n",
    "        batch_indices = torch.tensor(indices[i : min(i + batch_size, num_examples)]) \n",
    "        yield features[batch_indices], labels[batch_indices]\n",
    "        \n",
    "batch_size = 10\n",
    "\n",
    "for X, y in data_read(batch_size, features, labels):\n",
    "    print(X, '\\n', y)\n",
    "    break\n"
   ]
  },
  {
   "cell_type": "code",
   "execution_count": 13,
   "id": "bdc873ed-e287-44c8-8691-dbb746938e6c",
   "metadata": {
    "tags": []
   },
   "outputs": [],
   "source": [
    "# 初始化模型参数\n",
    "# 更新参数，并用自动微分来计算梯度\n",
    "w = torch.normal(0, 0.01, size = (2, 1), requires_grad = True)\n",
    "b = torch.zeros(1, requires_grad = True)"
   ]
  },
  {
   "cell_type": "code",
   "execution_count": 14,
   "id": "e848aabf-443d-40cf-86e2-6afb23ca4c4f",
   "metadata": {
    "tags": []
   },
   "outputs": [],
   "source": [
    "# 定义模型\n",
    "def linreg(X, w, b): #@save\n",
    "    return torch.matmul(X, w) + b"
   ]
  },
  {
   "cell_type": "code",
   "execution_count": 15,
   "id": "422542a2-9498-431a-9e34-3fccd81ae208",
   "metadata": {
    "tags": []
   },
   "outputs": [],
   "source": [
    "# 定义损失函数\n",
    "def squared_loss(y_hat, y): # 均方损失 #@save\n",
    "    return (y_hat - y.reshape(y_hat.shape)) ** 2 / 2 # 1/2(y1-y2)^2"
   ]
  },
  {
   "cell_type": "code",
   "execution_count": 16,
   "id": "04cdec91-1928-4527-a606-8da67a896196",
   "metadata": {
    "tags": []
   },
   "outputs": [],
   "source": [
    "# 定义优化算法\n",
    "def sgd(params, lr, batch_size): # 小批量随机梯度下降 #@save\n",
    "    with torch.no_grad():\n",
    "        for param in params:\n",
    "            param -= lr * param.grad / batch_size\n",
    "            '''params.grad 其实是batch中所有样本的grad总和，\n",
    "            所以这个时候除以batch_size就是相当于取一个平均值，\n",
    "            这样就算下一次传入的batch_size改变了，最后也不会影响得到的平均数。'''\n",
    "            param.grad.zero_() # 梯度置零"
   ]
  },
  {
   "cell_type": "code",
   "execution_count": 17,
   "id": "886cb72d-84ba-489b-bc0e-c5c0d353f2fc",
   "metadata": {
    "tags": []
   },
   "outputs": [
    {
     "name": "stdout",
     "output_type": "stream",
     "text": [
      "epoch1, loss0.035415\n",
      "epoch2, loss0.000122\n",
      "epoch3, loss0.000049\n"
     ]
    }
   ],
   "source": [
    "# 训练\n",
    "lr = 0.03\n",
    "num_epochs = 3\n",
    "net = linreg\n",
    "loss = squared_loss\n",
    "for epoch in range(num_epochs):\n",
    "    for X, y in data_read(batch_size, features, labels):\n",
    "        l = loss(net(X, w, b), y)\n",
    "        l.sum().backward()\n",
    "        sgd([w, b], lr, batch_size) # 使用参数的梯度更新参数\n",
    "    with torch.no_grad(): # 所有计算得出的tensor的requires_grad都自动设置为False\n",
    "        train_l = loss(net(features, w, b), labels)\n",
    "        print(f'epoch{epoch + 1}, loss{float(train_l.mean()):f}')"
   ]
  },
  {
   "cell_type": "code",
   "execution_count": null,
   "id": "fcbe42d3-46fa-4307-986e-8051482a34c4",
   "metadata": {},
   "outputs": [],
   "source": [
    "# 输出最终比较"
   ]
  }
 ],
 "metadata": {
  "kernelspec": {
   "display_name": "Python 3 (ipykernel)",
   "language": "python",
   "name": "python3"
  },
  "language_info": {
   "codemirror_mode": {
    "name": "ipython",
    "version": 3
   },
   "file_extension": ".py",
   "mimetype": "text/x-python",
   "name": "python",
   "nbconvert_exporter": "python",
   "pygments_lexer": "ipython3",
   "version": "3.11.7"
  }
 },
 "nbformat": 4,
 "nbformat_minor": 5
}
