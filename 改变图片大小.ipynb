{
 "cells": [
  {
   "cell_type": "code",
   "execution_count": 8,
   "id": "4693746a-c103-4792-8fac-7a29471d733d",
   "metadata": {
    "tags": []
   },
   "outputs": [],
   "source": [
    "import os\n",
    "from PIL import Image\n",
    "\n",
    "folder_path = '/home/anaconda/code/demo/captcha_train'\n",
    "pic_names = os.listdir(folder_path) \n",
    "for pic_name in pic_names:\n",
    "    pic_path = os.path.join(folder_path, pic_name)\n",
    "    # 打开图片\n",
    "    image = Image.open(pic_path).convert('RGB')\n",
    "\n",
    "    # 指定新的尺寸\n",
    "    new_size = (800, 600)\n",
    "\n",
    "    # 调整图片大小\n",
    "    resized_image = image.resize(new_size)\n",
    "\n",
    "    # 保存调整后的图片\n",
    "    resized_image.save(pic_path)\n"
   ]
  },
  {
   "cell_type": "code",
   "execution_count": null,
   "id": "a080e45f-7fad-4b4c-b879-c99166529f0d",
   "metadata": {},
   "outputs": [],
   "source": []
  }
 ],
 "metadata": {
  "kernelspec": {
   "display_name": "Python 3 (ipykernel)",
   "language": "python",
   "name": "python3"
  },
  "language_info": {
   "codemirror_mode": {
    "name": "ipython",
    "version": 3
   },
   "file_extension": ".py",
   "mimetype": "text/x-python",
   "name": "python",
   "nbconvert_exporter": "python",
   "pygments_lexer": "ipython3",
   "version": "3.11.3"
  }
 },
 "nbformat": 4,
 "nbformat_minor": 5
}
