{
 "cells": [
  {
   "cell_type": "code",
   "execution_count": null,
   "id": "e19e10d6-5d69-492e-8cf8-aaf25367a817",
   "metadata": {
    "tags": []
   },
   "outputs": [],
   "source": [
    "import cv2\n",
    "import os\n",
    "import numpy as np\n",
    "import random\n",
    "import torch\n",
    "import torch.nn as nn\n",
    "import torch.nn.functional as F"
   ]
  },
  {
   "cell_type": "code",
   "execution_count": null,
   "id": "a8dbf7da-b9f2-47aa-85ad-45169efbee2c",
   "metadata": {
    "tags": []
   },
   "outputs": [],
   "source": [
    "def read_pic(folder_path):\n",
    "    # 读取验证码图片数据\n",
    "    images = []\n",
    "    # folder_path = '/home/anaconda/code/demo/captcha_train/my_train'\n",
    "    pic_names = os.listdir(folder_path)\n",
    "    for pic_name in pic_names:\n",
    "        pic_path = os.path.join(folder_path, pic_name)\n",
    "        image = cv2.imread(pic_path)\n",
    "        # print(image)\n",
    "        if image is not None:\n",
    "            images.append(image)\n",
    "    return images"
   ]
  },
  {
   "cell_type": "code",
   "execution_count": null,
   "id": "15cf5c9c-9589-4fbd-a228-10960c2e9154",
   "metadata": {
    "tags": []
   },
   "outputs": [],
   "source": [
    "def read_labels(folder_path):\n",
    "    # 读取验证码图片标签\n",
    "    labels = []\n",
    "    pic_names = os.listdir(folder_path)\n",
    "    for pic_name in pic_names:\n",
    "        labels.append(pic_name[:4])\n",
    "    return labels\n",
    "\n",
    "my_train_labels = read_labels('/home/anaconda/code/demo/captcha_train')\n",
    "# my_test_labels = read_labels('/home/anaconda/code/demo/captcha_test/my_test')"
   ]
  },
  {
   "cell_type": "code",
   "execution_count": null,
   "id": "7452aea1-e442-4379-ba79-82fdf38c66d1",
   "metadata": {
    "tags": []
   },
   "outputs": [],
   "source": [
    "# 加载训练真实值\n",
    "def encoding_labels(labels, num_labels):\n",
    "    # 将验证码标签转换为独热向量\n",
    "    result = []\n",
    "    for i in range(num_labels): \n",
    "        y = [0, 0, 0, 0, 0, 0, 0, 0, 0, 0]\n",
    "        my_labels = list(labels[i]) # 字符串转列表，方便分离数字\n",
    "        for label in my_labels:\n",
    "            y[int(label)] += 1\n",
    "        result.append(y)\n",
    "    return result\n",
    "    \n",
    "train_labels = encoding_labels(my_train_labels, 100)\n",
    "train_labels = np.array(train_labels)"
   ]
  },
  {
   "cell_type": "code",
   "execution_count": null,
   "id": "4363232c-0f2f-45d0-a70e-8a8ad6acc1a2",
   "metadata": {
    "tags": []
   },
   "outputs": [],
   "source": [
    "def preprocess_images(images):\n",
    "    # 数据预处理\n",
    "    processed_images = []\n",
    "    for image in images:\n",
    "        resized_image = cv2.resize(image, (256, 256)) # 调整图片大小\n",
    "        gray_image = cv2.cvtColor(resized_image, cv2.COLOR_BGR2GRAY) # 调整为灰度图像\n",
    "        normalized_image = gray_image / 255.0 # 归一化处理\n",
    "        processed_images.append(normalized_image)\n",
    "    # print(processed_images)\n",
    "    return processed_images"
   ]
  },
  {
   "cell_type": "code",
   "execution_count": null,
   "id": "14cc9593-5eab-4990-9513-e0d6789c1c6a",
   "metadata": {
    "tags": []
   },
   "outputs": [],
   "source": [
    "# 加载训练和测试数据集\n",
    "def captcha_data_load(file_path):\n",
    "    my_images = read_pic(file_path)\n",
    "    processed_my_images = preprocess_images(my_images)\n",
    "    processed_my_images = torch.tensor(processed_my_images)\n",
    "    processed_my_images = processed_my_images.to(torch.float32)\n",
    "    return processed_my_images\n",
    "\n",
    "train_file_path = '/home/anaconda/code/demo/captcha_train'\n",
    "train_data = captcha_data_load(train_file_path)\n",
    "\n",
    "test_file_path = '/home/anaconda/code/demo/captcha_test/my_test'\n",
    "test_data = captcha_data_load(test_file_path)\n",
    "\n",
    "# print(train_data)\n",
    "# print(test_data)"
   ]
  },
  {
   "cell_type": "code",
   "execution_count": null,
   "id": "d2d15cd5-de6e-4250-a814-f1ce061d5a38",
   "metadata": {
    "tags": []
   },
   "outputs": [],
   "source": [
    "# 读取数据集\n",
    "def captcha_data_indice(batch_size, data, labels):\n",
    "    num_examples = len(data)\n",
    "    indices = list(range(num_examples))\n",
    "    random.shuffle(indices)\n",
    "    for i in range(0, num_examples, batch_size):\n",
    "        batch_indices = torch.tensor(indices[i : min(i + batch_size, num_examples)])\n",
    "        # print(batch_indices)\n",
    "        yield data[batch_indices], labels[batch_indices]\n",
    "        \n",
    "batch_size = 10       \n",
    "for X, y in captcha_data_indice(batch_size, train_data, train_labels):()"
   ]
  },
  {
   "cell_type": "code",
   "execution_count": null,
   "id": "2a824bfd-abdd-4a24-b8b1-dbaf11e6e096",
   "metadata": {
    "tags": []
   },
   "outputs": [],
   "source": [
    " # 定义神经网络\n",
    "class Net(nn.Module):\n",
    "    def __init__(self):\n",
    "        super(Net, self).__init__()\n",
    "        self.conv1 =  nn.Conv2d(1, 16, kernel_size = 3, stride = 2, padding = 1) # 16 * 128 * 128\n",
    "        self.relu1 = nn.ReLU()\n",
    "        self.pool1 = nn.MaxPool2d(kernel_size = 2, stride = 2) # 16 * 64 * 64\n",
    "        self.conv2 = nn.Conv2d(16, 32, kernel_size = 3, stride = 2, padding = 1) # 32 * 32 * 32\n",
    "        self.relu2 = nn.ReLU()\n",
    "        self.pool2 = nn.MaxPool2d(kernel_size = 2, stride = 2) # 32 * 16 * 16\n",
    "        self.conv3 = nn.Conv2d(32, 64, kernel_size = 3, stride = 2, padding = 1) # 64 * 8 * 8\n",
    "        self.relu3 = nn.ReLU()\n",
    "        self.pool3 = nn.MaxPool2d(kernel_size = 2, stride = 2) # 64 * 4 * 4\n",
    "        self.fc1 = nn.Linear(64* 4* 4, 256)    #(64 * 4 * 4, 256)\n",
    "        self.relu4 = nn.ReLU()\n",
    "        self.fc2 = nn.Linear(256, 10)    #(256, 10)\n",
    " \n",
    "    def forward(self, x):\n",
    "        x = x[:, :, None, None]\n",
    "        x = torch.reshape(x, [1, 1, 256, 256])\n",
    "        x = self.conv1(x)\n",
    "        x = self.relu1(x)\n",
    "        x = self.pool1(x)\n",
    "        x = self.conv2(x)\n",
    "        x = self.relu2(x)\n",
    "        x = self.pool2(x)\n",
    "        x = self.conv3(x)\n",
    "        x = self.relu3(x)\n",
    "        x = self.pool3(x)\n",
    "        x = x.view(-1, 64* 4 *4)\n",
    "        x = self.fc1(x)\n",
    "        x = self.relu4(x)\n",
    "        x = self.fc2(x)\n",
    "        return x"
   ]
  },
  {
   "cell_type": "code",
   "execution_count": null,
   "id": "d9b5fa92-e338-4aeb-b3f4-a2a19845d068",
   "metadata": {
    "tags": []
   },
   "outputs": [],
   "source": [
    "# 定义损失函数(交叉熵损失)和优化算法(随机梯度下降)等,并初始化参数\n",
    "net = Net()\n",
    "num_epochs = 10000\n",
    "criterion = nn.CrossEntropyLoss()\n",
    "optimizer = torch.optim.SGD(net.parameters(), lr=0.001)"
   ]
  },
  {
   "cell_type": "code",
   "execution_count": null,
   "id": "bb58597d-d736-48c9-b620-4266ed0d0bc3",
   "metadata": {
    "tags": []
   },
   "outputs": [],
   "source": [
    "# for i in range(X.size(0)):\n",
    "    # print(F.softmax(net(X[i])))"
   ]
  },
  {
   "cell_type": "code",
   "execution_count": null,
   "id": "0f111b48-f208-4c65-ae97-d5ab2f7b9211",
   "metadata": {
    "tags": []
   },
   "outputs": [],
   "source": [
    "# 训练\n",
    "for epoch in range(num_epochs):\n",
    "    # for i, (inputs, outputs) in enumerate(captcha_data_indice(batch_size, X, y), 0):\n",
    "    for inputs, outputs in captcha_data_indice(batch_size, X, y):\n",
    "        # 向前传播\n",
    "        # print(inputs.shape, outputs.shape)\n",
    "        y_hat = torch.zeros(10, 10)\n",
    "        for i in range(inputs.size(0)):\n",
    "            input_elements = net(inputs[i])\n",
    "            y_hat[i] = input_elements\n",
    "        # 对y的数据类型转换  \n",
    "        y = torch.tensor(outputs)\n",
    "        y = y.float()\n",
    "        loss = criterion(y_hat, y)\n",
    "        \n",
    "        # 反向传播和优化\n",
    "        loss.backward()\n",
    "        optimizer.step()\n",
    "        \n",
    "        # if i % 100 == 0:\n",
    "        print('epoch:', epoch + 1, 'loss:', loss.item() / batch_size, '\\n')\n",
    "        # loss= 0.0"
   ]
  },
  {
   "cell_type": "code",
   "execution_count": null,
   "id": "75575c94-fb84-4995-bab0-2a3d69065231",
   "metadata": {},
   "outputs": [],
   "source": []
  }
 ],
 "metadata": {
  "kernelspec": {
   "display_name": "Python 3 (ipykernel)",
   "language": "python",
   "name": "python3"
  },
  "language_info": {
   "codemirror_mode": {
    "name": "ipython",
    "version": 3
   },
   "file_extension": ".py",
   "mimetype": "text/x-python",
   "name": "python",
   "nbconvert_exporter": "python",
   "pygments_lexer": "ipython3",
   "version": "3.11.3"
  }
 },
 "nbformat": 4,
 "nbformat_minor": 5
}
