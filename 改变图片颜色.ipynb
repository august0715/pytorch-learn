{
 "cells": [
  {
   "cell_type": "code",
   "execution_count": 4,
   "id": "10c4e3cd-d090-44b2-8e00-3f29a8988780",
   "metadata": {},
   "outputs": [],
   "source": [
    "import colorsys\n",
    "import random\n",
    "import os\n",
    "from PIL import Image\n",
    "\n",
    "# 输入图片名称如下，\n",
    "folder_path = '/home/anaconda/code/demo/captcha_train'\n",
    "pic_names = os.listdir(folder_path) \n",
    "for pic_name in pic_names:\n",
    "    pic_path = os.path.join(folder_path, pic_name)\n",
    "        \n",
    "# for pic_path in pic_paths:\n",
    "    # 读入图片，转化为 RGB 色值\n",
    "    image = Image.open(pic_path).convert('RGB')\n",
    "    # 将 RGB 色值分离\n",
    "    image.load()\n",
    "    r, g, b = image.split()\n",
    "    result_r, result_g, result_b = [], [], []\n",
    "    # 依次对每个像素点进行处理\n",
    "    h_h = random.uniform(0.0, 10.0)\n",
    "    for pixel_r, pixel_g, pixel_b in zip(r.getdata(), g.getdata(), b.getdata()):\n",
    "        # 转为 HSV 色值\n",
    "        h, s, v = colorsys.rgb_to_hsv(pixel_r / 255., pixel_b / 255., pixel_g / 255.)\n",
    "        # 转回 RGB 色系\n",
    "\n",
    "        rgb = colorsys.hsv_to_rgb(h + h_h, s, v)#可自行调整0.70的大小，改变图片颜色，s、v代表无需改变，三个参数分别代表色调、饱和度、明度。\n",
    "        pixel_r, pixel_g, pixel_b = [int(x * 255.) for x in rgb]\n",
    "        # 每个像素点结果保存\n",
    "        result_r.append(pixel_r)\n",
    "        result_g.append(pixel_g)\n",
    "        result_b.append(pixel_b)\n",
    "\n",
    "\n",
    "    r.putdata(result_r)\n",
    "    g.putdata(result_g)\n",
    "    b.putdata(result_b)\n",
    "\n",
    "\n",
    "    # 合并图片\n",
    "    image = Image.merge('RGB', (r, g, b))\n",
    "    image.save(pic_path)#保存修改像素点后的图片，名称可以自行修改\n"
   ]
  },
  {
   "cell_type": "code",
   "execution_count": null,
   "id": "5d5554d5-44a4-4338-bf23-c1ce2344cb72",
   "metadata": {},
   "outputs": [],
   "source": []
  }
 ],
 "metadata": {
  "kernelspec": {
   "display_name": "Python 3 (ipykernel)",
   "language": "python",
   "name": "python3"
  },
  "language_info": {
   "codemirror_mode": {
    "name": "ipython",
    "version": 3
   },
   "file_extension": ".py",
   "mimetype": "text/x-python",
   "name": "python",
   "nbconvert_exporter": "python",
   "pygments_lexer": "ipython3",
   "version": "3.11.3"
  }
 },
 "nbformat": 4,
 "nbformat_minor": 5
}
